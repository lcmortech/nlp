{
 "cells": [
  {
   "cell_type": "code",
   "execution_count": 2,
   "metadata": {},
   "outputs": [
    {
     "name": "stdout",
     "output_type": "stream",
     "text": [
      "50844\n"
     ]
    }
   ],
   "source": [
    "from urllib.request import urlopen\n",
    "\n",
    "# urllib2 is used to download the html content of the web link\n",
    "\n",
    "response = urlopen(\"http://python.org/\")\n",
    "\n",
    "# You can read the entire content of a file using the read() method\n",
    "\n",
    "html = response.read().decode(\"utf-8\")\n",
    "print(len(html))"
   ]
  },
  {
   "cell_type": "code",
   "execution_count": 3,
   "metadata": {},
   "outputs": [
    {
     "name": "stdout",
     "output_type": "stream",
     "text": [
      "Total no of tokens :2988\n"
     ]
    }
   ],
   "source": [
    "# Regular Expression-based split the string (different from python)\n",
    "\n",
    "tokens = [tok for tok in html.split()]\n",
    "\n",
    "\n",
    "print(\"Total no of tokens :\" + str(len(tokens)))\n",
    "\n",
    "# First 100 tokens\n",
    "\n",
    "import re\n",
    "\n",
    "# using the split function\n",
    "\n",
    "# https://docs.python.org/2/library/re.html\n",
    "\n",
    "tokens = re.split(\"\\W+\", html)"
   ]
  },
  {
   "cell_type": "code",
   "execution_count": 4,
   "metadata": {},
   "outputs": [
    {
     "ename": "NotImplementedError",
     "evalue": "To remove HTML markup, use BeautifulSoup's get_text() function",
     "output_type": "error",
     "traceback": [
      "\u001b[0;31m---------------------------------------------------------------------------\u001b[0m",
      "\u001b[0;31mNotImplementedError\u001b[0m                       Traceback (most recent call last)",
      "\u001b[0;32m<ipython-input-4-db0c83267f0e>\u001b[0m in \u001b[0;36m<module>\u001b[0;34m\u001b[0m\n\u001b[1;32m      2\u001b[0m \u001b[0;31m#http://www.nltk.org/api/nltk..html#nltk.util.clean_html\u001b[0m\u001b[0;34m\u001b[0m\u001b[0;34m\u001b[0m\u001b[0;34m\u001b[0m\u001b[0m\n\u001b[1;32m      3\u001b[0m \u001b[0;34m\u001b[0m\u001b[0m\n\u001b[0;32m----> 4\u001b[0;31m \u001b[0mclean\u001b[0m \u001b[0;34m=\u001b[0m \u001b[0mnltk\u001b[0m\u001b[0;34m.\u001b[0m\u001b[0mclean_html\u001b[0m\u001b[0;34m(\u001b[0m\u001b[0mhtml\u001b[0m\u001b[0;34m)\u001b[0m\u001b[0;34m\u001b[0m\u001b[0;34m\u001b[0m\u001b[0m\n\u001b[0m\u001b[1;32m      5\u001b[0m \u001b[0;34m\u001b[0m\u001b[0m\n\u001b[1;32m      6\u001b[0m \u001b[0;31m#clean will have entire string removing all the html noise\u001b[0m\u001b[0;34m\u001b[0m\u001b[0;34m\u001b[0m\u001b[0;34m\u001b[0m\u001b[0m\n",
      "\u001b[0;32m~/.local/lib/python3.8/site-packages/nltk/util.py\u001b[0m in \u001b[0;36mclean_html\u001b[0;34m(html)\u001b[0m\n\u001b[1;32m    735\u001b[0m \u001b[0;34m\u001b[0m\u001b[0m\n\u001b[1;32m    736\u001b[0m \u001b[0;32mdef\u001b[0m \u001b[0mclean_html\u001b[0m\u001b[0;34m(\u001b[0m\u001b[0mhtml\u001b[0m\u001b[0;34m)\u001b[0m\u001b[0;34m:\u001b[0m\u001b[0;34m\u001b[0m\u001b[0;34m\u001b[0m\u001b[0m\n\u001b[0;32m--> 737\u001b[0;31m     raise NotImplementedError(\n\u001b[0m\u001b[1;32m    738\u001b[0m         \u001b[0;34m\"To remove HTML markup, use BeautifulSoup's get_text() function\"\u001b[0m\u001b[0;34m\u001b[0m\u001b[0;34m\u001b[0m\u001b[0m\n\u001b[1;32m    739\u001b[0m     )\n",
      "\u001b[0;31mNotImplementedError\u001b[0m: To remove HTML markup, use BeautifulSoup's get_text() function"
     ]
    }
   ],
   "source": [
    "import nltk\n",
    "from bs4 import BeautifulSoup\n",
    "\n",
    "#http://www.nltk.org/api/nltk..html#nltk.util.clean_html\n",
    "\n",
    "clean = BeautifulSoup(html).get_text()\n",
    "\n",
    "#clean will have entire string removing all the html noise\n",
    "\n",
    "tokens = [tok for tok in clean.split()]\n",
    "\n",
    "print(tokens[:100])"
   ]
  },
  {
   "cell_type": "code",
   "execution_count": null,
   "metadata": {},
   "outputs": [],
   "source": [
    "import operator\n",
    "freq_dis={}\n",
    "\n",
    "for tok in tokens:\n",
    "    if tok in freq_dis:\n",
    "        freq_dis[tok]+=1\n",
    "    else:\n",
    "        freq_dis[tok]=1\n",
    "        \n",
    "#we want to sort this dictionary on values (freq in tihs case)\n",
    "\n",
    "sorted_freq_dist = sorted(freq_dist.items(), key=operator.itemgetter(1),reverse=True)\n",
    "print(sorted_freq_dist[:25])"
   ]
  },
  {
   "cell_type": "code",
   "execution_count": null,
   "metadata": {},
   "outputs": [],
   "source": []
  }
 ],
 "metadata": {
  "kernelspec": {
   "display_name": "Python 3",
   "language": "python",
   "name": "python3"
  },
  "language_info": {
   "codemirror_mode": {
    "name": "ipython",
    "version": 3
   },
   "file_extension": ".py",
   "mimetype": "text/x-python",
   "name": "python",
   "nbconvert_exporter": "python",
   "pygments_lexer": "ipython3",
   "version": "3.8.10"
  }
 },
 "nbformat": 4,
 "nbformat_minor": 4
}
