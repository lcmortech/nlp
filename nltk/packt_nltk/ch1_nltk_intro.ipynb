{
 "cells": [
  {
   "cell_type": "code",
   "execution_count": 11,
   "metadata": {},
   "outputs": [
    {
     "name": "stdout",
     "output_type": "stream",
     "text": [
      "50971\n"
     ]
    }
   ],
   "source": [
    "from urllib.request import urlopen\n",
    "\n",
    "# urllib2 is used to download the html content of the web link\n",
    "\n",
    "response = urlopen(\"http://python.org/\")\n",
    "\n",
    "# You can read the entire content of a file using the read() method\n",
    "\n",
    "html = response.read().decode(\"utf-8\")\n",
    "print(len(html))"
   ]
  },
  {
   "cell_type": "code",
   "execution_count": 12,
   "metadata": {},
   "outputs": [
    {
     "name": "stdout",
     "output_type": "stream",
     "text": [
      "Total no of tokens :3001\n"
     ]
    }
   ],
   "source": [
    "# Regular Expression-based split the string (different from python)\n",
    "\n",
    "tokens = [tok for tok in html.split()]\n",
    "\n",
    "\n",
    "print(\"Total no of tokens :\" + str(len(tokens)))\n",
    "\n",
    "# First 100 tokens\n",
    "\n",
    "import re\n",
    "\n",
    "# using the split function\n",
    "\n",
    "# https://docs.python.org/2/library/re.html\n",
    "\n",
    "tokens = re.split(\"\\W+\", html)"
   ]
  },
  {
   "cell_type": "code",
   "execution_count": 13,
   "metadata": {},
   "outputs": [
    {
     "name": "stdout",
     "output_type": "stream",
     "text": [
      "['Welcome', 'to', 'Python.org', '{', '\"@context\":', '\"https://schema.org\",', '\"@type\":', '\"WebSite\",', '\"url\":', '\"https://www.python.org/\",', '\"potentialAction\":', '{', '\"@type\":', '\"SearchAction\",', '\"target\":', '\"https://www.python.org/search/?q={search_term_string}\",', '\"query-input\":', '\"required', 'name=search_term_string\"', '}', '}', 'var', '_gaq', '=', '_gaq', '||', '[];', \"_gaq.push(['_setAccount',\", \"'UA-39055973-1']);\", \"_gaq.push(['_trackPageview']);\", '(function()', '{', 'var', 'ga', '=', \"document.createElement('script');\", 'ga.type', '=', \"'text/javascript';\", 'ga.async', '=', 'true;', 'ga.src', '=', \"('https:'\", '==', 'document.location.protocol', '?', \"'https://ssl'\", ':', \"'http://www')\", '+', \"'.google-analytics.com/ga.js';\", 'var', 's', '=', \"document.getElementsByTagName('script')[0];\", 's.parentNode.insertBefore(ga,', 's);', '})();', 'Notice:', 'While', 'JavaScript', 'is', 'not', 'essential', 'for', 'this', 'website,', 'your', 'interaction', 'with', 'the', 'content', 'will', 'be', 'limited.', 'Please', 'turn', 'JavaScript', 'on', 'for', 'the', 'full', 'experience.', 'Skip', 'to', 'content', '▼', 'Close', 'Python', 'PSF', 'Docs', 'PyPI', 'Jobs', 'Community', '▲', 'The', 'Python', 'Network']\n"
     ]
    }
   ],
   "source": [
    "import nltk\n",
    "from bs4 import BeautifulSoup\n",
    "\n",
    "#http://www.nltk.org/api/nltk..html#nltk.util.clean_html\n",
    "\n",
    "clean = BeautifulSoup(html).get_text()\n",
    "\n",
    "#clean will have entire string removing all the html noise\n",
    "\n",
    "tokens = [tok for tok in clean.split()]\n",
    "\n",
    "print(tokens[:100])"
   ]
  },
  {
   "cell_type": "code",
   "execution_count": 14,
   "metadata": {},
   "outputs": [
    {
     "ename": "NameError",
     "evalue": "name 'freq_dis' is not defined",
     "output_type": "error",
     "traceback": [
      "\u001b[0;31m---------------------------------------------------------------------------\u001b[0m",
      "\u001b[0;31mNameError\u001b[0m                                 Traceback (most recent call last)",
      "\u001b[0;32m<ipython-input-14-1504824ab56d>\u001b[0m in \u001b[0;36m<module>\u001b[0;34m\u001b[0m\n\u001b[1;32m      3\u001b[0m \u001b[0;34m\u001b[0m\u001b[0m\n\u001b[1;32m      4\u001b[0m \u001b[0;32mfor\u001b[0m \u001b[0mtok\u001b[0m \u001b[0;32min\u001b[0m \u001b[0mtokens\u001b[0m\u001b[0;34m:\u001b[0m\u001b[0;34m\u001b[0m\u001b[0;34m\u001b[0m\u001b[0m\n\u001b[0;32m----> 5\u001b[0;31m     \u001b[0;32mif\u001b[0m \u001b[0mtok\u001b[0m \u001b[0;32min\u001b[0m \u001b[0mfreq_dis\u001b[0m\u001b[0;34m:\u001b[0m\u001b[0;34m\u001b[0m\u001b[0;34m\u001b[0m\u001b[0m\n\u001b[0m\u001b[1;32m      6\u001b[0m         \u001b[0mfreq_dist\u001b[0m\u001b[0;34m[\u001b[0m\u001b[0mtok\u001b[0m\u001b[0;34m]\u001b[0m\u001b[0;34m+=\u001b[0m\u001b[0;36m1\u001b[0m\u001b[0;34m\u001b[0m\u001b[0;34m\u001b[0m\u001b[0m\n\u001b[1;32m      7\u001b[0m     \u001b[0;32melse\u001b[0m\u001b[0;34m:\u001b[0m\u001b[0;34m\u001b[0m\u001b[0;34m\u001b[0m\u001b[0m\n",
      "\u001b[0;31mNameError\u001b[0m: name 'freq_dis' is not defined"
     ]
    }
   ],
   "source": [
    "import operator\n",
    "freq_dist = {}\n",
    "\n",
    "for tok in tokens:\n",
    "    if tok in freq_dist:\n",
    "        freq_dist[tok]+=1\n",
    "    else:\n",
    "        freq_dist[tok]=1\n",
    "        \n",
    "#we want to sort this dictionary on values (freq in tihs case)\n",
    "\n",
    "sorted_freq_dist = sorted(freq_dist.items(), key=operator.itemgetter(1),reverse=True)\n",
    "print(sorted_freq_dist[:25])"
   ]
  },
  {
   "cell_type": "code",
   "execution_count": null,
   "metadata": {},
   "outputs": [],
   "source": [
    "#A better and more efficient approach to the above\n",
    "\n",
    "import nltk\n",
    "\n",
    "Freq_dist_nltk = nltk.FreqDist(tokens)\n",
    "\n",
    "print(Freq_dist_nltk)\n",
    "\n",
    "for k,v in Freq_dist_nltk.items():\n",
    "    print(str(k)+':'+str(v))\n",
    "    \n",
    "    "
   ]
  },
  {
   "cell_type": "code",
   "execution_count": null,
   "metadata": {},
   "outputs": [],
   "source": [
    "Freq_dist_nltk.plot(50, cumulative=False)\n",
    "# below is the plot for the frequency distrobutions"
   ]
  },
  {
   "cell_type": "code",
   "execution_count": null,
   "metadata": {},
   "outputs": [],
   "source": [
    "#Remove stop words using nltk\n",
    "\n",
    "import nltk\n",
    "\n",
    "stop_words = [word_strip().lower() for word in open(\"PATH/english.stop.txt\")]\n",
    "\n",
    "clean_tokens = tok for tok in tokens if len(tok.lower())>1 and (tok.lower() not in stop_words)\n",
    "\n",
    "Freq_dist_nltk = nltk.FreqDist(clean_tokens)\n",
    "\n",
    "Freq_dist_nltk.plot(50, cumulative = False)\n"
   ]
  }
 ],
 "metadata": {
  "kernelspec": {
   "display_name": "Python 3",
   "language": "python",
   "name": "python3"
  },
  "language_info": {
   "codemirror_mode": {
    "name": "ipython",
    "version": 3
   },
   "file_extension": ".py",
   "mimetype": "text/x-python",
   "name": "python",
   "nbconvert_exporter": "python",
   "pygments_lexer": "ipython3",
   "version": "3.8.10"
  }
 },
 "nbformat": 4,
 "nbformat_minor": 4
}
