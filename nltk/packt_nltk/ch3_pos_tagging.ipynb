{
 "cells": [
  {
   "cell_type": "code",
   "execution_count": null,
   "metadata": {},
   "outputs": [],
   "source": [
    "# When we talk about POS (Parts of Speech), the most frequent POS notification used is the Penn TreeBank\n",
    "\n",
    "'''\n",
    "Ex:\n",
    "NNP - Proper Noun\n",
    "NNPS - Proper Noun, Plural\n",
    "'''"
   ]
  },
  {
   "cell_type": "code",
   "execution_count": null,
   "metadata": {},
   "outputs": [],
   "source": [
    "# POS\n",
    "\n",
    "import nltk\n",
    "from nltk import word_tokenize\n",
    "s = \"I was watching TV\"\n",
    "\n",
    "print = nltk.pos_tag(word_tokenize(s))\n",
    "[(\"I\", \"PRP\"), (\"was\", \"VBD\"), (\"watching\", \"VBG\"),(\"TV\",\"NN\")]\n",
    "\n",
    "\n",
    "tagged = nltk.pos_tag(word_tokenize(s))\n",
    "allnoun = [word for word, pos in tagged if pos in [\"NN\",\"NNP\"]]"
   ]
  },
  {
   "cell_type": "code",
   "execution_count": null,
   "metadata": {},
   "outputs": [],
   "source": [
    "# Stanford Tagger - nltk has many wrappers around other pre-trained taggers, such as the Standford tools:\n",
    "\n",
    "from nltk.tag.stanford import POSTagger\n",
    "import nltk\n",
    "\n",
    "stan_tagger = POSTagger(\"models/english-bidirectional-distdim.tagger\", \"standford-postagger.jar\")\n",
    "tokens = nltk.word_tokenize(s)\n",
    "stan_tagger.tag(tokens)"
   ]
  }
 ],
 "metadata": {
  "kernelspec": {
   "display_name": "Python 3",
   "language": "python",
   "name": "python3"
  },
  "language_info": {
   "codemirror_mode": {
    "name": "ipython",
    "version": 3
   },
   "file_extension": ".py",
   "mimetype": "text/x-python",
   "name": "python",
   "nbconvert_exporter": "python",
   "pygments_lexer": "ipython3",
   "version": "3.8.10"
  }
 },
 "nbformat": 4,
 "nbformat_minor": 4
}
